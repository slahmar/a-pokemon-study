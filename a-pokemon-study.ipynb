{
  "metadata": {
    "language_info": {
      "name": "python",
      "version": "3"
    },
    "kernelspec": {
      "display_name": "Python 3",
      "language": "python",
      "name": "python3"
    }
  },
  "nbformat": 4,
  "nbformat_minor": 0
}