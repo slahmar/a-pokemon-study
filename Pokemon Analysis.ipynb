{
  "cells":[
    {
      "metadata":{
        "_cell_guid":"7953d49b-4c40-4c41-94f6-ee3867e3513b",
        "_uuid":"ae8788943e9a437ca2e9eddbad7650cab6268ac4",
        "trusted":false
      },
      "cell_type":"code",
      "source":"import pandas as pd\nimport matplotlib.pyplot as plt\nimport numpy as np",
      "execution_count":null,
      "outputs":[

      ]
    },
    {
      "metadata":{
        "_cell_guid":"d195f187-39b8-4246-9531-81b198709228",
        "_uuid":"3ec449d1c0ff4806536d3cb460f434f2037d00a9"
      },
      "cell_type":"markdown",
      "source":"# Read data from the CSV file"
    },
    {
      "metadata":{
        "_cell_guid":"b563847b-4959-4818-b53e-e19d0e8ca0c5",
        "_uuid":"040d8ad7aa790b55f60c2bba3b0f7514fc509d64",
        "trusted":false
      },
      "cell_type":"code",
      "source":"pk = pd.read_csv(\"../input/pokemon.csv\")",
      "execution_count":null,
      "outputs":[

      ]
    },
    {
      "metadata":{
        "_cell_guid":"85027b98-55a2-4391-96b3-6b0f79b08278",
        "_uuid":"33958f1b4ae41de0939229ffaff6a883e44b13b0",
        "trusted":false
      },
      "cell_type":"code",
      "source":"pk.head()",
      "execution_count":null,
      "outputs":[

      ]
    },
    {
      "metadata":{
        "trusted":false
      },
      "cell_type":"code",
      "source":"pk.columns",
      "execution_count":null,
      "outputs":[

      ]
    },
    {
      "metadata":{
        "_cell_guid":"63b6a8c3-317c-4e7c-9504-f465a180c086",
        "_uuid":"73d4783af524792a3d6f405b821b4c8c935d7501"
      },
      "cell_type":"markdown",
      "source":"## Remove invalid data"
    },
    {
      "metadata":{
        "_cell_guid":"936affec-a594-4720-9e37-16c4d26c9458",
        "_uuid":"b38a1d615c8f88b7df707c7ecf4ece9a045b3741",
        "trusted":false
      },
      "cell_type":"code",
      "source":"pk = pk[pk[\"capture_rate\"] != \"30 (Meteorite)255 (Core)\"]\npk.capture_rate = pk.capture_rate.astype(np.int64)",
      "execution_count":null,
      "outputs":[

      ]
    },
    {
      "metadata":{
        "_cell_guid":"4aaa2d14-594a-40fc-9eaa-98ab6e5dba7b",
        "_uuid":"e8cb046711c8e21635e125a6db8c7d267cf44d7a"
      },
      "cell_type":"markdown",
      "source":"## Fill missing values"
    },
    {
      "metadata":{
        "_cell_guid":"d5abba01-13b3-4d32-91a1-c5a0c26e565b",
        "_uuid":"cbc1d034f8e6f9779b96ecf5c576735dd45740d5",
        "trusted":false
      },
      "cell_type":"code",
      "source":"pk[\"height_m\"] = pk[\"height_m\"].fillna(pk[\"height_m\"].median())\npk[\"percentage_male\"] = pk[\"percentage_male\"].fillna(-1)\npk[\"weight_kg\"] = pk[\"weight_kg\"].fillna(pk[\"weight_kg\"].median())\n",
      "execution_count":null,
      "outputs":[

      ]
    },
    {
      "metadata":{
        "_cell_guid":"f34b040c-2a37-4b45-9770-4d11eaafa66e",
        "_uuid":"22c9ffe93eea0b326d052ce24f235a3dd4254652",
        "trusted":false
      },
      "cell_type":"code",
      "source":"pk.describe()",
      "execution_count":null,
      "outputs":[

      ]
    },
    {
      "metadata":{
        "_cell_guid":"78f4fd58-8193-426e-9430-9c7d4090172f",
        "_uuid":"826b5c9917d926105c950cf92d3e57e5d1487713"
      },
      "cell_type":"markdown",
      "source":"## Influence of the Primary Type"
    },
    {
      "metadata":{
        "_cell_guid":"65fa6ddf-7b9a-4581-bc42-dd4cbaad448f",
        "_uuid":"ccd2f2055b51f6e76df03b5f5bf2ad3376ef7932"
      },
      "cell_type":"markdown",
      "source":"This is the number of Pokemons for each type :"
    },
    {
      "metadata":{
        "_cell_guid":"9d90a5cb-ac62-4065-8d06-2905080c0136",
        "_uuid":"d3ed154c3ffaf5263d3cd77c4dd1e229b01788e5",
        "trusted":false
      },
      "cell_type":"code",
      "source":"pk[\"type1\"].value_counts()",
      "execution_count":null,
      "outputs":[

      ]
    },
    {
      "metadata":{

      },
      "cell_type":"markdown",
      "source":"There are *a lot* more Water and Normal Pokemons than other types. "
    },
    {
      "metadata":{
        "_cell_guid":"b493b99f-0571-438c-8c75-efc5ed4dcb07",
        "_uuid":"49cf018d3b5b429e9a5123169cee59d58127c5ff"
      },
      "cell_type":"markdown",
      "source":"### Influence of the Primary type on the capture rate"
    },
    {
      "metadata":{
        "_cell_guid":"e18fd868-a46f-47d2-8c39-74a38df0cace",
        "_uuid":"ec4a62ee4bc280b65aaf20eb98b61be5ead85397",
        "trusted":false
      },
      "cell_type":"code",
      "source":"capture_type = pk[[\"capture_rate\", \"type1\"]]\ncapture_type = capture_type.groupby(\"type1\").median().sort_values(\"capture_rate\", ascending=False)\ncapture_type.plot(kind=\"bar\", title=\"Capture rate for each (Primary) type\")\nplt.show()",
      "execution_count":null,
      "outputs":[

      ]
    },
    {
      "metadata":{

      },
      "cell_type":"markdown",
      "source":"### Which type is best against which"
    },
    {
      "metadata":{
        "trusted":false
      },
      "cell_type":"code",
      "source":"best_against = pk.groupby(\"type1\").median()\nbest_against = best_against[['against_bug', 'against_dark', 'against_dragon',\n       'against_electric', 'against_fairy', 'against_fight', 'against_fire',\n       'against_flying', 'against_ghost', 'against_grass', 'against_ground',\n       'against_ice', 'against_normal', 'against_poison', 'against_psychic',\n       'against_rock', 'against_steel', 'against_water']].transpose()\n\nbest_against.style.highlight_max()",
      "execution_count":null,
      "outputs":[

      ]
    },
    {
      "metadata":{
        "trusted":false
      },
      "cell_type":"code",
      "source":"best_against.sum().sort_values(ascending=False)",
      "execution_count":null,
      "outputs":[

      ]
    },
    {
      "metadata":{

      },
      "cell_type":"markdown",
      "source":"The Ice type seems to be the most vulnerable type, in part because Flying Pokemons are really powerful against Ice Pokemons.\n\nBut the type which has most enemies best against it is the Ground type. "
    },
    {
      "metadata":{
        "_cell_guid":"0ef762c2-4c56-49e7-9a4f-9c3870df3c71",
        "_uuid":"5db0753296db3bf7266633a9e564323f4803a8eb"
      },
      "cell_type":"markdown",
      "source":"### How many Pokemon of each type are legendaries ?"
    },
    {
      "metadata":{
        "_cell_guid":"87accb68-b638-4a32-bd6f-aa2e4866c75c",
        "_uuid":"9d312afdb28dfafe904e2efacc89bd449462592c",
        "trusted":false
      },
      "cell_type":"code",
      "source":"legendary_type = pk[[\"type1\", \"is_legendary\"]]\nlegendaries = legendary_type[legendary_type[\"is_legendary\"] == 1]",
      "execution_count":null,
      "outputs":[

      ]
    },
    {
      "metadata":{
        "_cell_guid":"36f9cc5a-5b7d-4e05-afab-f56cb6dc770b",
        "_uuid":"f4950d08aa70d978d2984bd9f4b90c2609d3df8b",
        "trusted":false
      },
      "cell_type":"code",
      "source":"chance_of_legend = legendaries.groupby(\"type1\").count() / legendary_type.groupby(\"type1\").count()\nchance_of_legend = chance_of_legend.sort_values(\"is_legendary\", ascending=False)\nchance_of_legend.plot(kind=\"bar\", title=\"Proportion of legendaries Pokemon of each (Primary) type\")\nplt.show()",
      "execution_count":null,
      "outputs":[

      ]
    },
    {
      "metadata":{

      },
      "cell_type":"markdown",
      "source":"1/3 of the Flying Pokemons are legendaries, whereas none of the Fighting and Poison types are legendaries."
    },
    {
      "metadata":{

      },
      "cell_type":"markdown",
      "source":"### Which type looks like what ?"
    },
    {
      "metadata":{
        "trusted":false
      },
      "cell_type":"code",
      "source":"pokemons = pk.groupby(\"type1\").median()\npokemons_height_weight = pokemons[[\"height_m\", \"weight_kg\"]]\n\nplt.rcParams['figure.figsize'] = [15, 8]\n\nax = pokemons.plot.scatter(x='weight_kg', y='height_m')\nfor i, txt in enumerate(pokemons.index):\n    ax.annotate(txt, (pokemons.weight_kg.iat[i],pokemons.height_m.iat[i]))\nplt.show()",
      "execution_count":null,
      "outputs":[

      ]
    },
    {
      "metadata":{

      },
      "cell_type":"markdown",
      "source":"## Try to predict legendaries Pokemons"
    },
    {
      "metadata":{

      },
      "cell_type":"markdown",
      "source":"### Preprocessing"
    },
    {
      "metadata":{
        "trusted":false
      },
      "cell_type":"code",
      "source":"from sklearn.ensemble import RandomForestClassifier\nfrom sklearn.model_selection import train_test_split\nfrom sklearn import preprocessing\n\ndef remove_unnecessary_features(df):\n    del df[\"abilities\"]\n    del df[\"name\"]\n    del df[\"japanese_name\"]\n    del df[\"classfication\"]\n    del df[\"type2\"]\n    \ndef label_encode(df, column):\n    label_encoder = preprocessing.LabelEncoder()\n    label_encoder.fit(df[column])\n    df[column] = label_encoder.transform(df[column])\n    return label_encoder\n\nX = pk.copy()\nX.drop([25, 149, 150]) # Let's remove some Pokemons to try and predict them later\nremove_unnecessary_features(X)\ntype_encoder = label_encode(X, \"type1\")\n\ny = X.copy()[\"is_legendary\"]\ndel X[\"is_legendary\"]",
      "execution_count":null,
      "outputs":[

      ]
    },
    {
      "metadata":{

      },
      "cell_type":"markdown",
      "source":"### Split train and test"
    },
    {
      "metadata":{
        "trusted":false
      },
      "cell_type":"code",
      "source":"X_train, X_test, y_train, y_test = train_test_split(X, y)",
      "execution_count":null,
      "outputs":[

      ]
    },
    {
      "metadata":{

      },
      "cell_type":"markdown",
      "source":"### Train"
    },
    {
      "metadata":{

      },
      "cell_type":"markdown",
      "source":"The random forest classifier is an ensemble learning method for classification that operates by constructing a multitude of decision trees at training time and outputting the class that is the mode of the classes (classification) of the individual trees. Random decision forests correct for decision trees' habit of overfitting to their training set."
    },
    {
      "metadata":{
        "trusted":false
      },
      "cell_type":"code",
      "source":"classifier = RandomForestClassifier(n_estimators=5)\nclassifier.fit(X_train, y_train)",
      "execution_count":null,
      "outputs":[

      ]
    },
    {
      "metadata":{
        "trusted":false
      },
      "cell_type":"code",
      "source":"import seaborn as sns\n\ncm = sns.light_palette(\"green\", as_cmap=True)\n\nfeat_importance = pd.DataFrame([dict(zip(X_train.columns, classifier.feature_importances_))]).transpose().sort_values(0, ascending=False)\nfeat_importance.style.background_gradient(cmap=cm)",
      "execution_count":null,
      "outputs":[

      ]
    },
    {
      "metadata":{

      },
      "cell_type":"markdown",
      "source":"### Test"
    },
    {
      "metadata":{
        "trusted":false
      },
      "cell_type":"code",
      "source":"y_hat = classifier.predict(X_test)",
      "execution_count":null,
      "outputs":[

      ]
    },
    {
      "metadata":{
        "trusted":false
      },
      "cell_type":"code",
      "source":"from sklearn.metrics import f1_score\nf1_score(y_test, y_hat)",
      "execution_count":null,
      "outputs":[

      ]
    },
    {
      "metadata":{

      },
      "cell_type":"markdown",
      "source":"### Predict"
    },
    {
      "metadata":{

      },
      "cell_type":"markdown",
      "source":"#### Mew and Mewtwo"
    },
    {
      "metadata":{
        "trusted":false
      },
      "cell_type":"code",
      "source":"X_predict = pk.loc[[149, 150]]\nremove_unnecessary_features(X_predict)\ntype_encoder = label_encode(X_predict, \"type1\")\ndel X_predict[\"is_legendary\"]",
      "execution_count":null,
      "outputs":[

      ]
    },
    {
      "metadata":{
        "trusted":false
      },
      "cell_type":"code",
      "source":"classifier.predict(X_predict)",
      "execution_count":null,
      "outputs":[

      ]
    },
    {
      "metadata":{

      },
      "cell_type":"markdown",
      "source":"#### Pikachu"
    },
    {
      "metadata":{
        "trusted":false
      },
      "cell_type":"code",
      "source":"X_predict = pk.loc[[25]]\nremove_unnecessary_features(X_predict)\ntype_encoder = label_encode(X_predict, \"type1\")\ndel X_predict[\"is_legendary\"]\nclassifier.predict(X_predict)",
      "execution_count":null,
      "outputs":[

      ]
    }
  ],
  "metadata":{
    "kernelspec":{
      "display_name":"Python 3",
      "language":"python",
      "name":"python3"
    },
    "language_info":{
      "codemirror_mode":{
        "name":"ipython",
        "version":3
      },
      "file_extension":".py",
      "mimetype":"text/x-python",
      "name":"python",
      "nbconvert_exporter":"python",
      "pygments_lexer":"ipython3",
      "version":"3.7.0"
    }
  },
  "nbformat":4,
  "nbformat_minor":1
}
